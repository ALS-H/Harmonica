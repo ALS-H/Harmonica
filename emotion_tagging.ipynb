{
 "cells": [
  {
   "cell_type": "code",
   "execution_count": null,
   "metadata": {},
   "outputs": [],
   "source": [
    "!pip install miditok miditoolkit\n",
    "!pip install symusic"
   ]
  },
  {
   "cell_type": "markdown",
   "metadata": {},
   "source": [
    "Emotion Tagged Music tokens"
   ]
  },
  {
   "cell_type": "code",
   "execution_count": null,
   "metadata": {},
   "outputs": [
    {
     "name": "stdout",
     "output_type": "stream",
     "text": [
      "✅ Emotion tagging complete! Saved as tagged_music_data.csv\n"
     ]
    }
   ],
   "source": [
    "import pandas as pd\n",
    "\n",
    "# Load the CSV file\n",
    "file_path = \"music_tokens.csv\"  # Change if needed\n",
    "df = pd.read_csv(file_path)\n",
    "\n",
    "# Define emotion detection function\n",
    "def detect_emotion(pitch, velocity):\n",
    "    if pitch > 70 and velocity > 60:\n",
    "        return \"joy\"\n",
    "    elif pitch < 60 and velocity < 50:\n",
    "        return \"sad\"\n",
    "    elif velocity > 75:\n",
    "        return \"energetic\"\n",
    "    elif pitch in [60, 64, 67]:  # C major triad\n",
    "        return \"calm\"\n",
    "    else:\n",
    "        return \"neutral\"\n",
    "\n",
    "# Apply the function to each row\n",
    "df[\"Emotion\"] = df.apply(lambda row: detect_emotion(row[\"Pitch\"], row[\"Velocity\"]), axis=1)\n",
    "\n",
    "# Save the updated CSV\n",
    "output_path = \"tagged_music_data.csv\"\n",
    "df.to_csv(output_path, index=False)\n",
    "\n",
    "print(f\"✅ Emotion tagging complete! Saved as {output_path}\")"
   ]
  }
 ],
 "metadata": {
  "kernelspec": {
   "display_name": "Capstone",
   "language": "python",
   "name": "python3"
  },
  "language_info": {
   "codemirror_mode": {
    "name": "ipython",
    "version": 3
   },
   "file_extension": ".py",
   "mimetype": "text/x-python",
   "name": "python",
   "nbconvert_exporter": "python",
   "pygments_lexer": "ipython3",
   "version": "3.9.21"
  }
 },
 "nbformat": 4,
 "nbformat_minor": 2
}
