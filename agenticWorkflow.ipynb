# Emotion Classification Agent workflow
class EmotionAgent:
    def classify(self, midi_file):
        return midi_emotion_labels[midi_file]

# Prompt Engineering Agent
class PromptEngineeringAgent:
    def create_prompt(self, midi_file, emotion):
        features = midi_features[midi_file]
        return (
            f"A {emotion.lower()} piece of piano music with a tempo of {features['tempo']} BPM, "
            f"written in {'major' if features['key'] < 12 else 'minor'} key, "
            f"and an average note density of {features['note_density']} notes per second. "
            f"It should evoke {emotion.lower()} feelings with expressive melodies."
        )

# Music Generation Agent
class MusicGenerationAgent:
    def generate(self, prompt, mode="cot", output_filename="Agenticgenerated_music.wav"):
        if mode == "cot":
            return generate_music_CoT(prompt, output_filename)
        elif mode == "got":
            return generate_music_GoT(prompt, output_filename)
        else:
            raise ValueError("Invalid mode. Choose 'cot' or 'got'.")

import os

class AgenticMusicWorkflow:
    def __init__(self):
        self.emotion_agent = EmotionAgent()
        self.prompt_agent = PromptEngineeringAgent()
        self.music_agent = MusicGenerationAgent()

    def run(self, midi_file, mode="cot"):
        print(f"🎵 Starting generation for: {midi_file} | Mode: {mode.upper()}")

        emotion = self.emotion_agent.classify(midi_file)
        print(f"[EmotionAgent] ➤ Classified Emotion: {emotion}")

        prompt = self.prompt_agent.create_prompt(midi_file, emotion)
        print(f"[PromptAgent] ➤ Generated Prompt:\n{prompt}")

        # 💡 Fix: Sanitize filename to avoid invalid paths
        midi_basename = os.path.basename(midi_file).replace("/", "_").replace("\\", "_")
        output_file = f"{midi_basename}_{mode}_output.wav"

        result_path = self.music_agent.generate(prompt, mode=mode, output_filename=output_file)
        print(f"[MusicAgent] ➤ Music generated at: {result_path}")

        return result_path
import pickle
import pandas as pd
with open("processed_midi_data.pkl", "rb") as f:
    midi_features = pickle.load(f)


# Load final emotions
final_emotion_df = pd.read_csv("final_midi_emotion_labels.csv", index_col=0)
final_emotion_labels = final_emotion_df["Final Emotion"].to_dict()
# Instantiate the full agentic pipeline
workflow = AgenticMusicWorkflow()

# Choose any MIDI file key from your features
example_midi = list(midi_features.keys())[0]

# Run in CoT mode
cot_path = workflow.run(example_midi, mode="cot")


